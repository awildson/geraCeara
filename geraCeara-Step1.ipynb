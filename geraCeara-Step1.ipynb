{
 "cells": [
  {
   "cell_type": "code",
   "execution_count": 1,
   "metadata": {},
   "outputs": [],
   "source": [
    "import pandas as pd\n",
    "import requests\n",
    "import json\n",
    "import os.path\n",
    "import numpy as np\n",
    "import matplotlib.pyplot as plt\n",
    "import pprint\n",
    "import networkx as nx\n",
    "import random as rnd\n",
    "\n",
    "from matplotlib import colors as mcolors\n",
    "from geopy.distance import geodesic\n",
    "from pandas.io.json import json_normalize\n",
    "kkk=0"
   ]
  },
  {
   "cell_type": "code",
   "execution_count": 2,
   "metadata": {},
   "outputs": [
    {
     "name": "stdout",
     "output_type": "stream",
     "text": [
      "('ordem', 1)\n"
     ]
    }
   ],
   "source": [
    "colors = dict(mcolors.BASE_COLORS, **mcolors.CSS4_COLORS)\n",
    "\n",
    "# Sort colors by hue, saturation, value and name.\n",
    "by_hsv = sorted((tuple(mcolors.rgb_to_hsv(mcolors.to_rgba(color)[:3])), name)\n",
    "                for name, color in colors.items())\n",
    "sorted_names = [name for hsv, name in by_hsv]\n",
    "\n",
    "kkk+=1;print(\"ordem\",kkk)"
   ]
  },
  {
   "cell_type": "code",
   "execution_count": 3,
   "metadata": {},
   "outputs": [
    {
     "name": "stdout",
     "output_type": "stream",
     "text": [
      "('ordem', 2)\n"
     ]
    }
   ],
   "source": [
    "# Cesar para ver como faz a query consulte https://wiki.openstreetmap.org/wiki/Overpass_API/Overpass_QL\n",
    "#\n",
    "#\n",
    "def getRodovias():\n",
    "    poly = \"-3.070145 -41.397623 -3.378076 -41.529317 -4.200684 -41.243993 -4.890447 -41.353599 -5.284097 -41.045815 -6.630547 -40.878812 -6.915577 -40.558076 -7.360932 -40.566191 -7.453001 -39.765866 -7.952970 -39.061235 -7.934419 -39.033309 -7.331740 -38.439331 -6.841795 -38.603392 -6.139325 -38.365410 -5.758917 -37.974206 -5.007089 -37.536193 -4.780404 -37.074409 -3.680291 -38.287696 -2.704505 -39.959576 -2.725466 -41.413189 -3.043958 -41.382122\"\n",
    "    overpass_url = \"http://overpass-api.de/api/interpreter\"\n",
    "    overpass_query = '[out:json];'\n",
    "    overpass_query = overpass_query + 'area[admin_level=2];'\n",
    "    overpass_query = overpass_query + '('\n",
    "    overpass_query = overpass_query + 'way[\"ref\"~\"^BR-\"](poly:\"'+str(poly)+'\");'\n",
    "    overpass_query = overpass_query + 'node(w);'\n",
    "    overpass_query = overpass_query + 'way[\"ref\"~\"^CE-\"](poly:\"'+str(poly)+'\");'\n",
    "    overpass_query = overpass_query + 'node(w);'\n",
    "    overpass_query = overpass_query + ');'\n",
    "    overpass_query = overpass_query + 'out center;'\n",
    "    response = requests.get(overpass_url, params={'data': overpass_query})\n",
    "    data = response.json()\n",
    "    return data\n",
    "kkk+=1;print(\"ordem\",kkk)"
   ]
  },
  {
   "cell_type": "code",
   "execution_count": 4,
   "metadata": {},
   "outputs": [
    {
     "name": "stdout",
     "output_type": "stream",
     "text": [
      "('ordem', 3)\n"
     ]
    }
   ],
   "source": [
    "#\n",
    "# Get OSM Data\n",
    "#\n",
    "f = \"data/data.json\"\n",
    "if(os.path.exists(f)):\n",
    "    with open(f) as json_file:\n",
    "        data = json.load(json_file)\n",
    "else:\n",
    "    data = getRodovias()\n",
    "    with open(f, 'w') as fileo:\n",
    "        json.dump(data, fileo)\n",
    "        \n",
    "kkk+=1;print(\"ordem\",kkk)"
   ]
  },
  {
   "cell_type": "code",
   "execution_count": 5,
   "metadata": {},
   "outputs": [
    {
     "name": "stdout",
     "output_type": "stream",
     "text": [
      "('ordem', 4)\n"
     ]
    }
   ],
   "source": [
    "#\n",
    "# Create Graph\n",
    "#\n",
    "def createG(data):\n",
    "    G = nx.Graph()\n",
    "    for element in data['elements']:\n",
    "        if element['type'] == 'node':\n",
    "            idn = element['id']\n",
    "            lon = element['lon']\n",
    "            lat = element['lat']\n",
    "            G.add_node(idn,lat=lat,lon=lon,pos=(lon,lat),\n",
    "                       cidade=0, nomeCidade=\"\",visited=0)\n",
    "    \n",
    "    pos = nx.get_node_attributes(G,'pos')\n",
    "    for element in data['elements']:\n",
    "        ide = element['id']\n",
    "        try:\n",
    "            nodes = element['nodes']\n",
    "        except:\n",
    "            nodes = []\n",
    "        lenNodes = len(nodes)\n",
    "        if(lenNodes>0):\n",
    "            try:\n",
    "                ref = element['ref']\n",
    "            except:\n",
    "                ref=\"\"\n",
    "            try:\n",
    "                name = element['name']\n",
    "            except:\n",
    "                name = \"\"\n",
    "            for i in range(1,lenNodes):\n",
    "                lon0,lat0 = pos[nodes[i]]\n",
    "                lon1,lat1 = pos[nodes[i-1]]\n",
    "                distance = geodesic((lat0,lon0),(lat1,lon1)).meters\n",
    "                G.add_edge(nodes[i],nodes[i-1],\n",
    "                           name=name,\n",
    "                           ref=ref,\n",
    "                           distance=distance)\n",
    "    \n",
    "    return G\n",
    "\n",
    "G = createG(data)\n",
    "\n",
    "kkk+=1;print(\"ordem\",kkk)"
   ]
  },
  {
   "cell_type": "code",
   "execution_count": 6,
   "metadata": {},
   "outputs": [
    {
     "name": "stdout",
     "output_type": "stream",
     "text": [
      "('ordem', 5)\n"
     ]
    }
   ],
   "source": [
    "#\n",
    "# First Plot\n",
    "#\n",
    "def plot1():\n",
    "    pos = nx.get_node_attributes(G,'pos')\n",
    "    draw = nx.draw_networkx_nodes(G,pos=pos,node_size=0.01)\n",
    "    draw = nx.draw_networkx_edges(G,pos=pos,width=1)\n",
    "    plt.savefig(\"export/ceara-ce-br.pdf\")\n",
    "\n",
    "kkk+=1;print(\"ordem\",kkk)"
   ]
  },
  {
   "cell_type": "code",
   "execution_count": 7,
   "metadata": {},
   "outputs": [
    {
     "name": "stdout",
     "output_type": "stream",
     "text": [
      "('ordem', 6)\n"
     ]
    }
   ],
   "source": [
    "#\n",
    "# Detect Cluster Agregates\n",
    "#\n",
    "cc = sorted(nx.connected_components(G), key = len, reverse=True)\n",
    "pos = nx.get_node_attributes(G,'pos')\n",
    "def plot2():\n",
    "    lcc = list(cc[0])\n",
    "    sorted_names = sorted_names + sorted_names\n",
    "    pos = nx.get_node_attributes(G,'pos')\n",
    "    for i in range(len(cc)):\n",
    "        #if(i==len(sorted_names)): break\n",
    "        if(len(cc[i])<=100):\n",
    "            color = sorted_names[i]\n",
    "            draw = nx.draw_networkx_nodes(G,pos=pos,node_size=0.05,nodelist=list(cc[i]),node_color=color)\n",
    "    plt.savefig(\"export/ceara-ce-br-subG-le100.pdf\")\n",
    "\n",
    "kkk+=1;print(\"ordem\",kkk)"
   ]
  },
  {
   "cell_type": "code",
   "execution_count": 8,
   "metadata": {},
   "outputs": [
    {
     "name": "stdout",
     "output_type": "stream",
     "text": [
      "('ordem', 7)\n"
     ]
    }
   ],
   "source": [
    "nx.write_gml(G,'export/G.gml')\n",
    "\n",
    "kkk+=1;print(\"ordem\",kkk)"
   ]
  },
  {
   "cell_type": "code",
   "execution_count": 9,
   "metadata": {},
   "outputs": [
    {
     "name": "stdout",
     "output_type": "stream",
     "text": [
      "('ordem', 8)\n"
     ]
    }
   ],
   "source": [
    "#\n",
    "# Check Cities for Ceará State\n",
    "#\n",
    "def checkNodeNeig():\n",
    "    dfcid = pd.read_csv(\"data/Municipios-Brasileiros/csv/municipios.csv\",delimiter=\",\")\n",
    "    dfcid[\"distancia\"] = 1e10\n",
    "    dfcid[\"node\"] = 1\n",
    "\n",
    "    # Ceará (23)\n",
    "    dfcid = dfcid[dfcid.codigo_uf == 23]\n",
    "\n",
    "    for i in dfcid.index:\n",
    "        minV = dfcid.distancia.loc[i]\n",
    "        lat0 = dfcid.latitude.loc[i]\n",
    "        lon0 = dfcid.longitude.loc[i]\n",
    "        cidade = dfcid.nome.loc[i]\n",
    "\n",
    "        for n in list(G.nodes()):\n",
    "            lon1,lat1 = pos[n]\n",
    "            v = geodesic((lat0,lon0),(lat1,lon1)).meters\n",
    "            if(v <= minV): \n",
    "                minV = v\n",
    "                minN = n\n",
    "\n",
    "        dfcid.distancia.at[i] = minV\n",
    "        dfcid.node.at[i] = minN\n",
    "        #print(cidade,minV,minN)\n",
    "\n",
    "#\n",
    "# Cria o arquivo de cidades mais proximo ao um vértice\n",
    "#\n",
    "try:\n",
    "    dfcid = pd.read_pickle(\"data/cidades.plk\")\n",
    "except:\n",
    "    print(\"Preciso criar o arquivo\")\n",
    "kkk+=1;print(\"ordem\",kkk)"
   ]
  },
  {
   "cell_type": "code",
   "execution_count": 10,
   "metadata": {},
   "outputs": [
    {
     "name": "stdout",
     "output_type": "stream",
     "text": [
      "('ordem', 9)\n"
     ]
    }
   ],
   "source": [
    "#\n",
    "# Update Cities into Graph\n",
    "#\n",
    "\n",
    "def plot3(dfcid,pos):\n",
    "    draw = nx.draw_networkx_nodes(G,pos=pos,node_size=0.01)\n",
    "    draw = nx.draw_networkx_nodes(G,pos=pos,nodelist=list(dfcid.node),node_size=5,node_color=\"blue\")\n",
    "\n",
    "    plt.savefig(\"export/ceara-ce-br-with-city.pdf\")\n",
    "#plot3(dfcid,pos)\n",
    "\n",
    "cidades = nx.get_node_attributes(G,'cidade')\n",
    "nome_cidades = nx.get_node_attributes(G,'nomeCidade')\n",
    "\n",
    "for i in dfcid.index:\n",
    "    cidade = dfcid.nome.loc[i]\n",
    "    node = dfcid.node.loc[i]\n",
    "    \n",
    "    cidades[node] = 1\n",
    "    nome_cidades[node] = cidade\n",
    "    \n",
    "nx.set_node_attributes(G,cidades,'cidade')\n",
    "nx.set_node_attributes(G,nome_cidades,'nomeCidade') \n",
    "\n",
    "nodesCidades = list(dfcid.node)\n",
    "\n",
    "nx.write_gml(G,'export/G.gml')\n",
    "\n",
    "\n",
    "kkk+=1;print(\"ordem\",kkk)"
   ]
  },
  {
   "cell_type": "code",
   "execution_count": 11,
   "metadata": {},
   "outputs": [],
   "source": [
    "#\n",
    "# Check Nodes Endlist for each subgraph\n",
    "#\n",
    "degree = G.degree()\n",
    "endlist = []\n",
    "for n,d in degree:\n",
    "    if(d<2): \n",
    "        endlist.append(n)"
   ]
  },
  {
   "cell_type": "code",
   "execution_count": 12,
   "metadata": {},
   "outputs": [
    {
     "data": {
      "image/png": "[encoded data removed]",
      "text/plain": [
       "<Figure size 432x288 with 1 Axes>"
      ]
     },
     "metadata": {
      "needs_background": "light"
     },
     "output_type": "display_data"
    }
   ],
   "source": [
    "def plot4(sorted_names):\n",
    "    lcc = list(cc[0])\n",
    "    sorted_names = sorted_names + sorted_names\n",
    "    pos = nx.get_node_attributes(G,'pos')\n",
    "    for i in range(len(cc)):\n",
    "        color = sorted_names[i]\n",
    "        draw = nx.draw_networkx_nodes(G,pos=pos,node_size=0.05,nodelist=list(cc[i]),node_color=color)\n",
    "    nx.draw_networkx_nodes(G,pos=pos,node_size=10,nodelist=endlist,node_color=\"red\")\n",
    "    plt.savefig(\"export/ceara-ce-br-subG.pdf\")\n",
    "\n",
    "plot4(sorted_names)"
   ]
  },
  {
   "cell_type": "code",
   "execution_count": 13,
   "metadata": {},
   "outputs": [],
   "source": [
    "dist = nx.get_edge_attributes(G,'distance')"
   ]
  },
  {
   "cell_type": "code",
   "execution_count": 14,
   "metadata": {},
   "outputs": [
    {
     "name": "stdout",
     "output_type": "stream",
     "text": [
      "# 46129 nodes and 92258 edges removed\n",
      "# 25401 nodes and 50802 edges removed\n",
      "# 13827 nodes and 27654 edges removed\n",
      "# 7697 nodes and 15394 edges removed\n",
      "(1781280642, 621912756)\n",
      "# 4130 nodes and 8260 edges removed\n",
      "(1781280642, 5184116689)\n",
      "# 2274 nodes and 4548 edges removed\n",
      "# 1233 nodes and 2466 edges removed\n",
      "(1643092535, 4518833493)\n",
      "# 633 nodes and 1266 edges removed\n",
      "# 312 nodes and 624 edges removed\n",
      "# 127 nodes and 254 edges removed\n",
      "# 30 nodes and 60 edges removed\n",
      "# 2 nodes and 4 edges removed\n",
      "# 1 nodes and 2 edges removed\n"
     ]
    }
   ],
   "source": [
    "#\n",
    "# Clear nodes not necessary \n",
    "#\n",
    "def clearGraph(G,forbidem):\n",
    "\n",
    "    G1 = G.copy()\n",
    "    nodes = G.nodes()\n",
    "    \n",
    "    dist = nx.get_edge_attributes(G,'distance')\n",
    "    name = nx.get_edge_attributes(G,'name')\n",
    "    ref = nx.get_edge_attributes(G,'ref')\n",
    "    \n",
    "    removeNodes = []\n",
    "    removeEdges = []\n",
    "    \n",
    "    k=0\n",
    "    l=0\n",
    "    for n in nodes:\n",
    "        \n",
    "        if(n not in forbidem):\n",
    "            \n",
    "            deg = G1.degree(n)\n",
    "            if(deg == 0):\n",
    "                G1.remove_node(n)\n",
    "                k+=1\n",
    "            elif(deg == 1):\n",
    "                #\n",
    "                # Not needs remove\n",
    "                #\n",
    "                neig = list(G1.neighbors(n))\n",
    "                try:\n",
    "                    dist1 = dist[n,back]\n",
    "                except:\n",
    "                    try:\n",
    "                        dist1 = dist[back,n]\n",
    "                    except:\n",
    "                        dist1 = 0\n",
    "                \n",
    "            elif(deg == 2):\n",
    "                neig = list(G1.neighbors(n))\n",
    "                back = neig[0]\n",
    "                forw = neig[1]\n",
    "\n",
    "                try:\n",
    "                    dist1 = dist[n,back]\n",
    "                except:\n",
    "                    try:\n",
    "                        dist1 = dist[back,n]\n",
    "                    except:\n",
    "                        dist1 = 0\n",
    "                        print(n,back)\n",
    "\n",
    "\n",
    "                try:\n",
    "                    dist2 = dist[n,forw]\n",
    "                except:\n",
    "                    try:\n",
    "                        dist2 = dist[forw,n]\n",
    "                    except:\n",
    "                        dist2 = 0\n",
    "                        print(n,forw)\n",
    "\n",
    "                try:\n",
    "                    name1 = name[n,back]\n",
    "                except:\n",
    "                    try:\n",
    "                        name1 = name[back,n]\n",
    "                    except:\n",
    "                        name1 = 0\n",
    "                        \n",
    "                try:\n",
    "                    ref1 = ref[n,back]\n",
    "                except:\n",
    "                    try:\n",
    "                        ref1 = ref[back,n]\n",
    "                    except:\n",
    "                        ref1 = 0\n",
    "                        \n",
    "                if(back != forw and dist1 != 0 and dist2 != 0):\n",
    "                    G1.add_edge(back,forw,\n",
    "                               distance=dist1+dist2,\n",
    "                               name=name1,\n",
    "                               ref=ref1)\n",
    "\n",
    "                    removeNodes.append(n)\n",
    "                    removeEdges.append((n,back))\n",
    "                    removeEdges.append((n,forw))\n",
    "\n",
    "    for n1,n2 in removeEdges:\n",
    "        try: G1.remove_edge((n1,n2))\n",
    "        except: pass\n",
    "        l+=1\n",
    "     \n",
    "    for n in removeNodes:\n",
    "        try: G1.remove_node(n)\n",
    "        except: pass\n",
    "        k+=1\n",
    "    \n",
    "    print(\"# \"+str(k)+\" nodes and \"+str(l)+\" edges removed\")\n",
    "    return G1,k\n",
    "\n",
    "G1,k = clearGraph(G,(nodesCidades+endlist))\n",
    "while(k>1):\n",
    "    G1,k = clearGraph(G1,(nodesCidades+endlist))"
   ]
  },
  {
   "cell_type": "code",
   "execution_count": 15,
   "metadata": {},
   "outputs": [
    {
     "name": "stdout",
     "output_type": "stream",
     "text": [
      "('ordem', 10)\n"
     ]
    }
   ],
   "source": [
    "def plot5(sorted_names,nodesCidades):\n",
    "    cc1 = sorted(nx.connected_components(G1), key = len, reverse=True)\n",
    "    print(len(cc1))\n",
    "    pos1 = nx.get_node_attributes(G1,'pos')\n",
    "    sorted_names = sorted_names + sorted_names\n",
    "    for i in range(len(cc1)):\n",
    "        color = sorted_names[i]\n",
    "        draw = nx.draw_networkx_nodes(G1,pos=pos1,node_size=0.5,nodelist=list(cc1[i]),node_color=color)\n",
    "    draw = nx.draw_networkx_nodes(G1,pos=pos1,nodelist=nodesCidades,node_size=5)\n",
    "    draw = nx.draw_networkx_edges(G1,pos=pos1,width=1)\n",
    "    plt.savefig(\"export/ceara-ce-br-filtered.pdf\")\n",
    "#plot5(sorted_names,nodesCidades)\n",
    "kkk+=1;print(\"ordem\",kkk)"
   ]
  },
  {
   "cell_type": "code",
   "execution_count": 16,
   "metadata": {},
   "outputs": [
    {
     "name": "stdout",
     "output_type": "stream",
     "text": [
      "1762\n",
      "('ordem', 11)\n"
     ]
    }
   ],
   "source": [
    "#\n",
    "# Verifica sítios vizinhos as Cidades\n",
    "#\n",
    "def checkNeig(cc):\n",
    "    \n",
    "    lenCC = len(cc)\n",
    "    minsV = np.zeros((lenCC,lenCC))\n",
    "    nodesMin = {}\n",
    "    minsV = minsV + 1e10\n",
    "    k=0\n",
    "    for i in range(lenCC):\n",
    "        nodesI = cc[i]\n",
    "        #print(\"#\",i,len(nodesI))\n",
    "        for ni in nodesI:\n",
    "            lon0, lat0 = pos[ni]\n",
    "            for j in range(i+1,lenCC):\n",
    "                nodesJ = cc[j]\n",
    "                #print(\"##\",j,len(nodesJ))\n",
    "                for nj in nodesJ:\n",
    "                    lon1, lat1 = pos[nj]\n",
    "                    minv = minsV[i,j]\n",
    "                    v = geodesic((lat0,lon0),(lat1,lon1)).meters\n",
    "                    #print(k,i,ni,j,nj,minv,v)\n",
    "                    if(v<minv): \n",
    "                        minsV[i,j] = v\n",
    "                        nodesMin[i,j] = (ni,nj)\n",
    "                    #if(k>100): return\n",
    "                    k+=1\n",
    "    return minsV, nodesMin\n",
    "\n",
    "#\n",
    "# Cria a matriz de vizinhanca\n",
    "#\n",
    "print(G1.number_of_nodes())\n",
    "cc1 = sorted(nx.connected_components(G1), key = len, reverse=True)\n",
    "try:\n",
    "    minsV = np.load(\"data/minsV.npy\")\n",
    "    \n",
    "\n",
    "    nodesMin = np.load(\"data/nodesMin.npy\")\n",
    "except:\n",
    "    print(\"Precisa criar o arquivo\")\n",
    "    minsV, nodesMin = checkNeig(cc1)\n",
    "    #print(minsV, nodesMin)\n",
    "    np.save(\"data/minsV\",minsV)\n",
    "    np.save(\"data/nodesMin\",nodesMin)\n",
    "    \n",
    "kkk+=1;print(\"ordem\",kkk)"
   ]
  },
  {
   "cell_type": "code",
   "execution_count": 17,
   "metadata": {},
   "outputs": [
    {
     "name": "stdout",
     "output_type": "stream",
     "text": [
      "('subG', 18)\n",
      "(277, 27556)\n"
     ]
    }
   ],
   "source": [
    "#\n",
    "# Calc Minimal Distance between nodes\n",
    "#\n",
    "G2 = G1.copy()\n",
    "\n",
    "nodesMinA = (nodesMin.item())\n",
    "k=0\n",
    "joinList = []\n",
    "for i in range(166):\n",
    "    for j in range(166):\n",
    "        v = minsV[i,j]\n",
    "        if(v<5000):\n",
    "            k+=1\n",
    "            joinList.append(nodesMinA[i,j][0])\n",
    "            joinList.append(nodesMinA[i,j][1])\n",
    "            G2.add_edge(nodesMinA[i,j][0],nodesMinA[i,j][1],\n",
    "                        distance=v,ref=\"join\",name=\"join\",ide=\"join\")\n",
    "            #print(i,j,v)\n",
    "cc1 = sorted(nx.connected_components(G2), key = len, reverse=True)\n",
    "print(\"subG\",len(cc1))\n",
    "print(k,166*166)"
   ]
  }
 ],
 "metadata": {
  "kernelspec": {
   "display_name": "Python 2",
   "language": "python",
   "name": "python2"
  },
  "language_info": {
   "codemirror_mode": {
    "name": "ipython",
    "version": 2
   },
   "file_extension": ".py",
   "mimetype": "text/x-python",
   "name": "python",
   "nbconvert_exporter": "python",
   "pygments_lexer": "ipython2",
   "version": "2.7.15"
  }
 },
 "nbformat": 4,
 "nbformat_minor": 2
}
